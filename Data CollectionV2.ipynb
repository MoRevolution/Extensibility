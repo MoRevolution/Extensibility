{
 "cells": [
  {
   "cell_type": "markdown",
   "metadata": {},
   "source": [
    "### Import Libraries"
   ]
  },
  {
   "cell_type": "code",
   "execution_count": 7,
   "metadata": {},
   "outputs": [],
   "source": [
    "from tapsdk import TapSDK, TapInputMode\n",
    "from tapsdk.models import AirGestures\n",
    "import pandas as pd\n",
    "import numpy as np\n",
    "import keyboard\n",
    "import time\n",
    "\n",
    "\n",
    "tap_instance = []\n",
    "tap_identifiers = []\n",
    "x_array = np.array([])\n",
    "y_array = np.array([])  \n",
    "\n",
    "modes = [\"text\", \"controller\", \"controller_text\", \"raw\"]"
   ]
  },
  {
   "cell_type": "markdown",
   "metadata": {},
   "source": [
    "### Functions"
   ]
  },
  {
   "cell_type": "code",
   "execution_count": 8,
   "metadata": {},
   "outputs": [],
   "source": [
    "class Functionality:\n",
    "    current_x = None\n",
    "    current_y = None\n",
    "    \n",
    "    # For connection notification\n",
    "    def pis(self):\n",
    "        print(\"Hello world!\")\n",
    "        \n",
    "    def on_connect(self, identifier, name, fw):\n",
    "        print(\"Tap has connected\")\n",
    "        print(identifier + \" Tap: \" + str(name), \" FW Version: \", fw)\n",
    "        if identifier not in tap_identifiers:\n",
    "            tap_identifiers.append(identifier)\n",
    "        print(\"Connected taps:\")\n",
    "        for identifier in tap_identifiers:\n",
    "            print(identifier)\n",
    "\n",
    "    # For disconnection notification\n",
    "    def on_disconnect(self, identifier):\n",
    "        print(\"Tap has disconnected\")\n",
    "        if identifier in tap_identifiers:\n",
    "            tap_identifiers.remove(identifier)\n",
    "        for identifier in tap_identifiers:\n",
    "            print(identifier)\n",
    "\n",
    "    # For mouse data\n",
    "    def on_mouse_event(self, identifier, dx: int, dy: int, isMouse):\n",
    "        if isMouse:\n",
    "            self.current_x = dx \n",
    "            self.current_y = dy\n",
    "            print(str(dx), str(dy))\n",
    "\n",
    "            # time.sleep(5) # Sleep for 3 seconds\n",
    "            # return (\"X-coor\"+str(dx), \"Y-coor\"+str(dy)) \n",
    "        else:\n",
    "            pass\n",
    "            # print(\"Air: \", str(dx), str(dy))\n",
    "\n",
    "    #For adding\n",
    "    def add_top_column(self, df: pd.DataFrame, top_col: str, inplace=False):\n",
    "        if not inplace:\n",
    "            df = df.copy()\n",
    "        \n",
    "        df.columns = pd.MultiIndex.from_product([[top_col], df.columns])\n",
    "        return df\n",
    "\n",
    "\n"
   ]
  },
  {
   "cell_type": "markdown",
   "metadata": {},
   "source": [
    "### Main "
   ]
  },
  {
   "cell_type": "code",
   "execution_count": null,
   "metadata": {},
   "outputs": [],
   "source": [
    "def main():\n",
    "    trial_df = pd.DataFrame()\n",
    "    count = 0\n",
    "    start = input(f\"Type 'St' to start running\")\n",
    "\n",
    "    while start == \"St\":\n",
    "        trial = input(f\"Type 'ST' to start running this trial\")\n",
    "        x_array = np.array([])\n",
    "        y_array = np.array([])\n",
    "        while trial == \"ST\":\n",
    "            print(\"We are on trial\" + str(count))\n",
    "\n",
    "            # instantiate a Tap object and start registering events\n",
    "            global tap_instance\n",
    "            tap_instance = TapSDK()\n",
    "            tap_instance.run()\n",
    "            tap_instance.register_connection_events(on_connect)\n",
    "            tap_instance.register_disconnection_events(on_disconnect)\n",
    "            tap_instance.register_mouse_events(on_mouse_event)\n",
    "            \n",
    "            #append each position change value to the array \n",
    "            x_array = np.append(x_array,[dx])\n",
    "            y_array = np.append(x_array,[dy])   \n",
    "            print(str(dx), str(dy)) \n",
    "\n",
    "            #use 1 or 3 for controller or raw data mode respectively in list modes\n",
    "            tap_instance.set_input_mode(TapInputMode(modes[1])) \n",
    "\n",
    "            # Command to end the recording of one trail within a case\n",
    "            if(keyboard.is_pressed(\"q\")):\n",
    "                trail = \"END\"\n",
    "                print(\"You have chosen to end this trial.\")\n",
    "            else: \n",
    "                pass\n",
    "\n",
    "        #Add this trial to the trial_df dataframe\n",
    "        trial_column = pd.DataFrame([[x_array, y_array]], columns=['x', 'y'])\n",
    "        trial_column = add_top_column(trial_column, \"Trial_\" + str(count))\n",
    "        trial_df= pd.concat([trial_df, trial_column])\n",
    "\n",
    "        print(f\"Trial {count} just ended, starting next trial. \")\n",
    "        count += count\n",
    "        print(f\"Trial {count} is next\")\n",
    "\n",
    "        # Command to end the recording of trials within this database\n",
    "        if (keyboard.is_pressed('p')): \n",
    "            start = \"End\"\n",
    "            print(\"You have chosen to end this iteration of trials. Saving data...\")\n",
    "        else: \n",
    "            pass\n",
    "\n",
    "    trial_df.to_csv(input(\"Type in the name for this csv file\"), index=False)\n",
    "\n",
    "if __name__ == \"__main__\":\n",
    "    main()"
   ]
  },
  {
   "cell_type": "markdown",
   "metadata": {},
   "source": [
    "### Trial and Error"
   ]
  },
  {
   "cell_type": "code",
   "execution_count": 12,
   "metadata": {},
   "outputs": [
    {
     "name": "stdout",
     "output_type": "stream",
     "text": [
      "input mode: Controller Mode\n",
      "You have chosen to end this trial.\n"
     ]
    },
    {
     "ename": "TypeError",
     "evalue": "TapWindowsSDK.send_vibration_sequence() missing 1 required positional argument: 'identifier'",
     "output_type": "error",
     "traceback": [
      "\u001b[1;31m---------------------------------------------------------------------------\u001b[0m",
      "\u001b[1;31mTypeError\u001b[0m                                 Traceback (most recent call last)",
      "\u001b[1;32mc:\\Users\\MoRevolution\\Desktop\\College\\Classes\\2022-2023\\J-term\\CSC-380\\Tap Strap Functionality\\Data CollectionV2.ipynb Cell 5\u001b[0m in \u001b[0;36m<cell line: 25>\u001b[1;34m()\u001b[0m\n\u001b[0;32m     <a href='vscode-notebook-cell:/c%3A/Users/MoRevolution/Desktop/College/Classes/2022-2023/J-term/CSC-380/Tap%20Strap%20Functionality/Data%20CollectionV2.ipynb#W4sZmlsZQ%3D%3D?line=22'>23</a>\u001b[0m         \u001b[39melse\u001b[39;00m: \n\u001b[0;32m     <a href='vscode-notebook-cell:/c%3A/Users/MoRevolution/Desktop/College/Classes/2022-2023/J-term/CSC-380/Tap%20Strap%20Functionality/Data%20CollectionV2.ipynb#W4sZmlsZQ%3D%3D?line=23'>24</a>\u001b[0m             \u001b[39mpass\u001b[39;00m\n\u001b[1;32m---> <a href='vscode-notebook-cell:/c%3A/Users/MoRevolution/Desktop/College/Classes/2022-2023/J-term/CSC-380/Tap%20Strap%20Functionality/Data%20CollectionV2.ipynb#W4sZmlsZQ%3D%3D?line=24'>25</a>\u001b[0m main()\n",
      "\u001b[1;32mc:\\Users\\MoRevolution\\Desktop\\College\\Classes\\2022-2023\\J-term\\CSC-380\\Tap Strap Functionality\\Data CollectionV2.ipynb Cell 5\u001b[0m in \u001b[0;36mmain\u001b[1;34m()\u001b[0m\n\u001b[0;32m     <a href='vscode-notebook-cell:/c%3A/Users/MoRevolution/Desktop/College/Classes/2022-2023/J-term/CSC-380/Tap%20Strap%20Functionality/Data%20CollectionV2.ipynb#W4sZmlsZQ%3D%3D?line=17'>18</a>\u001b[0m     \u001b[39m# with open(\"hello.txt\", \"a\") as my_file:\u001b[39;00m\n\u001b[0;32m     <a href='vscode-notebook-cell:/c%3A/Users/MoRevolution/Desktop/College/Classes/2022-2023/J-term/CSC-380/Tap%20Strap%20Functionality/Data%20CollectionV2.ipynb#W4sZmlsZQ%3D%3D?line=18'>19</a>\u001b[0m     \u001b[39m#     my_file.write(str(x_array[0]))\u001b[39;00m\n\u001b[0;32m     <a href='vscode-notebook-cell:/c%3A/Users/MoRevolution/Desktop/College/Classes/2022-2023/J-term/CSC-380/Tap%20Strap%20Functionality/Data%20CollectionV2.ipynb#W4sZmlsZQ%3D%3D?line=19'>20</a>\u001b[0m     \u001b[39m#     my_file.write(str(y_array[0]))\u001b[39;00m\n\u001b[0;32m     <a href='vscode-notebook-cell:/c%3A/Users/MoRevolution/Desktop/College/Classes/2022-2023/J-term/CSC-380/Tap%20Strap%20Functionality/Data%20CollectionV2.ipynb#W4sZmlsZQ%3D%3D?line=20'>21</a>\u001b[0m     \u001b[39mprint\u001b[39m(\u001b[39m\"\u001b[39m\u001b[39mYou have chosen to end this trial.\u001b[39m\u001b[39m\"\u001b[39m)\n\u001b[1;32m---> <a href='vscode-notebook-cell:/c%3A/Users/MoRevolution/Desktop/College/Classes/2022-2023/J-term/CSC-380/Tap%20Strap%20Functionality/Data%20CollectionV2.ipynb#W4sZmlsZQ%3D%3D?line=21'>22</a>\u001b[0m     tap_instance\u001b[39m.\u001b[39;49msend_vibration_sequence(sequence\u001b[39m=\u001b[39;49m[\u001b[39m1000\u001b[39;49m,\u001b[39m300\u001b[39;49m,\u001b[39m200\u001b[39;49m])\n\u001b[0;32m     <a href='vscode-notebook-cell:/c%3A/Users/MoRevolution/Desktop/College/Classes/2022-2023/J-term/CSC-380/Tap%20Strap%20Functionality/Data%20CollectionV2.ipynb#W4sZmlsZQ%3D%3D?line=22'>23</a>\u001b[0m \u001b[39melse\u001b[39;00m: \n\u001b[0;32m     <a href='vscode-notebook-cell:/c%3A/Users/MoRevolution/Desktop/College/Classes/2022-2023/J-term/CSC-380/Tap%20Strap%20Functionality/Data%20CollectionV2.ipynb#W4sZmlsZQ%3D%3D?line=23'>24</a>\u001b[0m     \u001b[39mpass\u001b[39;00m\n",
      "\u001b[1;31mTypeError\u001b[0m: TapWindowsSDK.send_vibration_sequence() missing 1 required positional argument: 'identifier'"
     ]
    },
    {
     "ename": "",
     "evalue": "",
     "output_type": "error",
     "traceback": [
      "\u001b[1;31mThe Kernel crashed while executing code in the the current cell or a previous cell. Please review the code in the cell(s) to identify a possible cause of the failure. Click <a href='https://aka.ms/vscodeJupyterKernelCrash'>here</a> for more info. View Jupyter <a href='command:jupyter.viewOutput'>log</a> for further details."
     ]
    }
   ],
   "source": [
    "def main():  \n",
    "    x_array = np.array([])\n",
    "    y_array = np.array([])  \n",
    "    global tap_instance\n",
    "    tap_instance = TapSDK()\n",
    "    fun = Functionality()\n",
    "    tap_instance.run()\n",
    "    # tap_instance.register_connection_events(on_connect)\n",
    "    # tap_instance.register_disconnection_events(on_disconnect)\n",
    "    tap_instance.register_mouse_events(fun.on_mouse_event)\n",
    "    tap_instance.set_input_mode(TapInputMode(modes[1]))   \n",
    "\n",
    "    tap_instance.get_data_mouse()\n",
    "    print(fun.current_x)\n",
    "    print(fun.Current_y)\n",
    "\n",
    "    # x_array = np.append(x_array,[array[0]])\n",
    "    # y_array = np.append(x_array,[array[1]])   \n",
    "    trial = True \n",
    "    while trial:\n",
    "        if(keyboard.is_pressed(\"q\")):\n",
    "            trial = False\n",
    "            # with open(\"hello.txt\", \"a\") as my_file:\n",
    "            #     my_file.write(str(x_array[0]))\n",
    "            #     my_file.write(str(y_array[0]))\n",
    "            print(\"You have chosen to end this trial.\")\n",
    "            tap_instance.send_vibration_sequence(sequence=[1000,300,200])\n",
    "        else: \n",
    "            pass\n",
    "main()"
   ]
  },
  {
   "cell_type": "code",
   "execution_count": 11,
   "metadata": {},
   "outputs": [
    {
     "data": {
      "text/plain": [
       "1"
      ]
     },
     "execution_count": 11,
     "metadata": {},
     "output_type": "execute_result"
    }
   ],
   "source": [
    "x_array.size"
   ]
  },
  {
   "cell_type": "code",
   "execution_count": null,
   "metadata": {},
   "outputs": [],
   "source": [
    "mouse_data = (1,2)\n",
    "trial_df = pd.DataFrame()\n",
    "\n",
    "x_array = np.array([mouse_data[0]])\n",
    "y_array = np.array([mouse_data[1]])\n",
    "\n",
    "\n",
    "first_row = pd.DataFrame([[mouse_data[0], mouse_data[1]]], columns=['x', 'y'])\n",
    "trial_df= pd.concat([trial_df, first_row])\n",
    "trial_df = add_top_column(trial_df, 'Trial_'+ str(1))\n",
    "\n",
    "trial_df\n",
    "# new_row = pd.Series({'x': 3, 'y': 4})\n",
    "# pd.concat([trial_df, new_row.to_frame().T], ignore_index=True)"
   ]
  },
  {
   "cell_type": "code",
   "execution_count": null,
   "metadata": {},
   "outputs": [],
   "source": [
    "big_df = pd.DataFrame()\n",
    "orig_df = pd.DataFrame([[1, 2], [3, 4]], columns=['a', 'b'])\n",
    "orig_df = add_top_column(orig_df, \"new column\")\n",
    "big_df = pd.concat([big_df,orig_df], axis=1)\n",
    "big_df\n",
    "\n",
    "# new_df3 = add_top_column(orig_df, \"new column3\")\n",
    "# print(pd.concat([new_df, new_df2, new_df3], axis=1))\n",
    "\n",
    "# orig_df.columns"
   ]
  },
  {
   "cell_type": "code",
   "execution_count": null,
   "metadata": {},
   "outputs": [],
   "source": [
    "# new_df2 = add_top_column(orig_df, \"new column2\")\n",
    "new_df2 = pd.DataFrame([[1, 2], [3, 4]], columns=['a', 'b'])\n",
    "new_df2 = add_top_column(new_df2, \"new column1\")\n",
    "big_df = pd.concat([big_df,new_df2], axis=1)\n",
    "big_df\n"
   ]
  },
  {
   "cell_type": "code",
   "execution_count": null,
   "metadata": {},
   "outputs": [],
   "source": [
    "big_df = pd.DataFrame([])\n",
    "new_df3 = pd.DataFrame([[1, 2], [3, 4]], columns=['a', 'b'])\n",
    "new_df3 = add_top_column(new_df3, \"new column3\")\n",
    "big_df = pd.concat([big_df,new_df3], axis=1)\n",
    "big_df\n",
    "\n"
   ]
  }
 ],
 "metadata": {
  "kernelspec": {
   "display_name": "Python 3 (ipykernel)",
   "language": "python",
   "name": "python3"
  },
  "language_info": {
   "codemirror_mode": {
    "name": "ipython",
    "version": 3
   },
   "file_extension": ".py",
   "mimetype": "text/x-python",
   "name": "python",
   "nbconvert_exporter": "python",
   "pygments_lexer": "ipython3",
   "version": "3.10.5"
  },
  "vscode": {
   "interpreter": {
    "hash": "26de051ba29f2982a8de78e945f0abaf191376122a1563185a90213a26c5da77"
   }
  }
 },
 "nbformat": 4,
 "nbformat_minor": 2
}
