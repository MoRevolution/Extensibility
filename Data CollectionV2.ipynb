{
 "cells": [
  {
   "cell_type": "markdown",
   "metadata": {},
   "source": [
    "# Data Collection"
   ]
  },
  {
   "cell_type": "markdown",
   "metadata": {},
   "source": [
    "### Import Libraries For Data Collection"
   ]
  },
  {
   "cell_type": "code",
   "execution_count": 1,
   "metadata": {},
   "outputs": [],
   "source": [
    "from tapsdk import TapSDK, TapInputMode\n",
    "from tapsdk.models import AirGestures\n",
    "import pandas as pd\n",
    "import numpy as np\n",
    "import keyboard\n",
    "import time\n",
    "import os \n",
    "import glob\n",
    "\n",
    "tap_instance = []\n",
    "tap_identifiers = []\n",
    "global x_array \n",
    "global y_array \n",
    "\n",
    "modes = [\"text\", \"controller\", \"controller_text\", \"raw\"]"
   ]
  },
  {
   "cell_type": "markdown",
   "metadata": {},
   "source": [
    "### Functions"
   ]
  },
  {
   "cell_type": "code",
   "execution_count": 2,
   "metadata": {},
   "outputs": [],
   "source": [
    "class Functionality:\n",
    "    current_x = None\n",
    "    current_y = None\n",
    "    \n",
    "    # For connection notification\n",
    "    def on_connect(self, identifier, name, fw):\n",
    "        print(\"Tap has connected\")\n",
    "        print(identifier + \" Tap: \" + str(name), \" FW Version: \", fw)\n",
    "        if identifier not in tap_identifiers:\n",
    "            tap_identifiers.append(identifier)\n",
    "        print(\"Connected taps:\")\n",
    "        for identifier in tap_identifiers:\n",
    "            print(identifier)\n",
    "\n",
    "    # For disconnection notification\n",
    "    def on_disconnect(self, identifier):\n",
    "        print(\"Tap has disconnected\")\n",
    "        if identifier in tap_identifiers:\n",
    "            tap_identifiers.remove(identifier)\n",
    "        for identifier in tap_identifiers:\n",
    "            print(identifier)\n",
    "\n",
    "    # For mouse data\n",
    "    def on_mouse_event(self, identifier, dx: int, dy: int, isMouse):\n",
    "        if isMouse:\n",
    "            self.current_x = dx \n",
    "            self.current_y = dy\n",
    "            # print(str(dx), str(dy))\n",
    "        else:\n",
    "            pass\n",
    "            # print(\"Air: \", str(dx), str(dy))\n",
    "\n",
    "    #For adding columns on top \n",
    "    def add_top_column(self, df: pd.DataFrame, top_col: str, inplace=False):\n",
    "        if not inplace:\n",
    "            df = df.copy()\n",
    "        \n",
    "        df.columns = pd.MultiIndex.from_product([[top_col], df.columns])\n",
    "        return df"
   ]
  },
  {
   "cell_type": "markdown",
   "metadata": {},
   "source": [
    "### Data Collection"
   ]
  },
  {
   "cell_type": "markdown",
   "metadata": {},
   "source": [
    "#### Non-Automated Collection"
   ]
  },
  {
   "cell_type": "code",
   "execution_count": 6,
   "metadata": {},
   "outputs": [
    {
     "name": "stdout",
     "output_type": "stream",
     "text": [
      "input mode: Controller and Text Mode\n",
      "You have chosen to end this trial.\n",
      "input mode: Controller and Text Mode\n",
      "You have chosen to end this trial.\n",
      "input mode: Controller and Text Mode\n",
      "You have chosen to end this trial.\n",
      "input mode: Controller and Text Mode\n",
      "You have chosen to end this trial.\n",
      "input mode: Controller and Text Mode\n",
      "You have chosen to end this trial.\n"
     ]
    },
    {
     "ename": "KeyboardInterrupt",
     "evalue": "Interrupted by user",
     "output_type": "error",
     "traceback": [
      "\u001b[1;31m---------------------------------------------------------------------------\u001b[0m",
      "\u001b[1;31mKeyboardInterrupt\u001b[0m                         Traceback (most recent call last)",
      "\u001b[1;32mc:\\Users\\MoRevolution\\Desktop\\College\\Classes\\2022-2023\\J-term\\CSC-380\\Tap Strap Functionality\\Data CollectionV2.ipynb Cell 8\u001b[0m in \u001b[0;36m<cell line: 35>\u001b[1;34m()\u001b[0m\n\u001b[0;32m     <a href='vscode-notebook-cell:/c%3A/Users/MoRevolution/Desktop/College/Classes/2022-2023/J-term/CSC-380/Tap%20Strap%20Functionality/Data%20CollectionV2.ipynb#X10sZmlsZQ%3D%3D?line=32'>33</a>\u001b[0m             \u001b[39mprint\u001b[39m(start)\n\u001b[0;32m     <a href='vscode-notebook-cell:/c%3A/Users/MoRevolution/Desktop/College/Classes/2022-2023/J-term/CSC-380/Tap%20Strap%20Functionality/Data%20CollectionV2.ipynb#X10sZmlsZQ%3D%3D?line=34'>35</a>\u001b[0m \u001b[39mif\u001b[39;00m \u001b[39m__name__\u001b[39m \u001b[39m==\u001b[39m \u001b[39m\"\u001b[39m\u001b[39m__main__\u001b[39m\u001b[39m\"\u001b[39m:\n\u001b[1;32m---> <a href='vscode-notebook-cell:/c%3A/Users/MoRevolution/Desktop/College/Classes/2022-2023/J-term/CSC-380/Tap%20Strap%20Functionality/Data%20CollectionV2.ipynb#X10sZmlsZQ%3D%3D?line=35'>36</a>\u001b[0m     main()\n",
      "\u001b[1;32mc:\\Users\\MoRevolution\\Desktop\\College\\Classes\\2022-2023\\J-term\\CSC-380\\Tap Strap Functionality\\Data CollectionV2.ipynb Cell 8\u001b[0m in \u001b[0;36mmain\u001b[1;34m()\u001b[0m\n\u001b[0;32m     <a href='vscode-notebook-cell:/c%3A/Users/MoRevolution/Desktop/College/Classes/2022-2023/J-term/CSC-380/Tap%20Strap%20Functionality/Data%20CollectionV2.ipynb#X10sZmlsZQ%3D%3D?line=27'>28</a>\u001b[0m count \u001b[39m+\u001b[39m\u001b[39m=\u001b[39m \u001b[39m1\u001b[39m\n\u001b[0;32m     <a href='vscode-notebook-cell:/c%3A/Users/MoRevolution/Desktop/College/Classes/2022-2023/J-term/CSC-380/Tap%20Strap%20Functionality/Data%20CollectionV2.ipynb#X10sZmlsZQ%3D%3D?line=28'>29</a>\u001b[0m \u001b[39mif\u001b[39;00m  count \u001b[39m<\u001b[39m\u001b[39m=\u001b[39m \u001b[39m100\u001b[39m:  \n\u001b[1;32m---> <a href='vscode-notebook-cell:/c%3A/Users/MoRevolution/Desktop/College/Classes/2022-2023/J-term/CSC-380/Tap%20Strap%20Functionality/Data%20CollectionV2.ipynb#X10sZmlsZQ%3D%3D?line=29'>30</a>\u001b[0m     start \u001b[39m=\u001b[39m \u001b[39minput\u001b[39;49m(\u001b[39m\"\u001b[39;49m\u001b[39mType \u001b[39;49m\u001b[39m'\u001b[39;49m\u001b[39mST\u001b[39;49m\u001b[39m'\u001b[39;49m\u001b[39m to keep running\u001b[39;49m\u001b[39m\"\u001b[39;49m)\n\u001b[0;32m     <a href='vscode-notebook-cell:/c%3A/Users/MoRevolution/Desktop/College/Classes/2022-2023/J-term/CSC-380/Tap%20Strap%20Functionality/Data%20CollectionV2.ipynb#X10sZmlsZQ%3D%3D?line=30'>31</a>\u001b[0m \u001b[39melse\u001b[39;00m: \n\u001b[0;32m     <a href='vscode-notebook-cell:/c%3A/Users/MoRevolution/Desktop/College/Classes/2022-2023/J-term/CSC-380/Tap%20Strap%20Functionality/Data%20CollectionV2.ipynb#X10sZmlsZQ%3D%3D?line=31'>32</a>\u001b[0m     start \u001b[39m=\u001b[39m \u001b[39m\"\u001b[39m\u001b[39mFinish\u001b[39m\u001b[39m\"\u001b[39m\n",
      "File \u001b[1;32m~\\AppData\\Roaming\\Python\\Python310\\site-packages\\ipykernel\\kernelbase.py:1161\u001b[0m, in \u001b[0;36mKernel.raw_input\u001b[1;34m(self, prompt)\u001b[0m\n\u001b[0;32m   1157\u001b[0m \u001b[39mif\u001b[39;00m \u001b[39mnot\u001b[39;00m \u001b[39mself\u001b[39m\u001b[39m.\u001b[39m_allow_stdin:\n\u001b[0;32m   1158\u001b[0m     \u001b[39mraise\u001b[39;00m StdinNotImplementedError(\n\u001b[0;32m   1159\u001b[0m         \u001b[39m\"\u001b[39m\u001b[39mraw_input was called, but this frontend does not support input requests.\u001b[39m\u001b[39m\"\u001b[39m\n\u001b[0;32m   1160\u001b[0m     )\n\u001b[1;32m-> 1161\u001b[0m \u001b[39mreturn\u001b[39;00m \u001b[39mself\u001b[39;49m\u001b[39m.\u001b[39;49m_input_request(\n\u001b[0;32m   1162\u001b[0m     \u001b[39mstr\u001b[39;49m(prompt),\n\u001b[0;32m   1163\u001b[0m     \u001b[39mself\u001b[39;49m\u001b[39m.\u001b[39;49m_parent_ident[\u001b[39m\"\u001b[39;49m\u001b[39mshell\u001b[39;49m\u001b[39m\"\u001b[39;49m],\n\u001b[0;32m   1164\u001b[0m     \u001b[39mself\u001b[39;49m\u001b[39m.\u001b[39;49mget_parent(\u001b[39m\"\u001b[39;49m\u001b[39mshell\u001b[39;49m\u001b[39m\"\u001b[39;49m),\n\u001b[0;32m   1165\u001b[0m     password\u001b[39m=\u001b[39;49m\u001b[39mFalse\u001b[39;49;00m,\n\u001b[0;32m   1166\u001b[0m )\n",
      "File \u001b[1;32m~\\AppData\\Roaming\\Python\\Python310\\site-packages\\ipykernel\\kernelbase.py:1205\u001b[0m, in \u001b[0;36mKernel._input_request\u001b[1;34m(self, prompt, ident, parent, password)\u001b[0m\n\u001b[0;32m   1202\u001b[0m             \u001b[39mbreak\u001b[39;00m\n\u001b[0;32m   1203\u001b[0m \u001b[39mexcept\u001b[39;00m \u001b[39mKeyboardInterrupt\u001b[39;00m:\n\u001b[0;32m   1204\u001b[0m     \u001b[39m# re-raise KeyboardInterrupt, to truncate traceback\u001b[39;00m\n\u001b[1;32m-> 1205\u001b[0m     \u001b[39mraise\u001b[39;00m \u001b[39mKeyboardInterrupt\u001b[39;00m(\u001b[39m\"\u001b[39m\u001b[39mInterrupted by user\u001b[39m\u001b[39m\"\u001b[39m) \u001b[39mfrom\u001b[39;00m \u001b[39mNone\u001b[39m\n\u001b[0;32m   1206\u001b[0m \u001b[39mexcept\u001b[39;00m \u001b[39mException\u001b[39;00m:\n\u001b[0;32m   1207\u001b[0m     \u001b[39mself\u001b[39m\u001b[39m.\u001b[39mlog\u001b[39m.\u001b[39mwarning(\u001b[39m\"\u001b[39m\u001b[39mInvalid Message:\u001b[39m\u001b[39m\"\u001b[39m, exc_info\u001b[39m=\u001b[39m\u001b[39mTrue\u001b[39;00m)\n",
      "\u001b[1;31mKeyboardInterrupt\u001b[0m: Interrupted by user"
     ]
    }
   ],
   "source": [
    "def main(): \n",
    "    count = 6\n",
    "    start = input(f\"Type 'ST' to start running\")\n",
    "    \n",
    "    while start == \"ST\":\n",
    "        global tap_instance\n",
    "        tap_instance = TapSDK()\n",
    "        fun = Functionality()\n",
    "        tap_instance.run()\n",
    "\n",
    "        # tap_instance.register_connection_events(on_connect)\n",
    "        # tap_instance.register_disconnection_events(on_disconnect)\n",
    "        tap_instance.register_mouse_events(fun.on_mouse_event)\n",
    "        tap_instance.set_input_mode(TapInputMode(modes[2]))   \n",
    "\n",
    "        trial = True \n",
    "        while trial:\n",
    "            if(keyboard.is_pressed(\"q\")):\n",
    "                trial = False\n",
    "                print(\"You have chosen to end this trial.\")\n",
    "            else: \n",
    "                if str(fun.current_x) != \"None\":\n",
    "                    # print(str(fun.current_x) + \" \"+ str(fun.current_y) + \" \" + \"got it\")\n",
    "                    with open(f\"Data\\\\Circle_+1\\\\circle_{count}.txt\", \"a\") as my_file:\n",
    "                        my_file.write(str(fun.current_x) + \" \" + str(fun.current_y) +\"\\n\")\n",
    "                pass\n",
    "\n",
    "        count += 1\n",
    "        if  count <= 100:  \n",
    "            start = input(\"Type 'ST' to keep running\")\n",
    "        else: \n",
    "            start = \"Finish\"\n",
    "            print(start)\n",
    "\n",
    "if __name__ == \"__main__\":\n",
    "    main() "
   ]
  },
  {
   "cell_type": "markdown",
   "metadata": {},
   "source": [
    "#### Data Cleaning and Dumping"
   ]
  },
  {
   "cell_type": "code",
   "execution_count": null,
   "metadata": {},
   "outputs": [],
   "source": [
    "# Don't implement if refresh rate of Tap Strap hasn't been reduced (will cause conflict in classification)\n",
    "lines_seen = set() # holds lines already seen\n",
    "outfile = open(f\"test\\\\circle_cleaned.txt\", \"w\")\n",
    "for line in open(f\"test\\\\circle_{38}.txt\", \"r\"):\n",
    "    if line not in lines_seen: # not a duplicate\n",
    "        outfile.write(line)\n",
    "        lines_seen.add(line)\n",
    "outfile.close()"
   ]
  },
  {
   "cell_type": "code",
   "execution_count": null,
   "metadata": {},
   "outputs": [],
   "source": [
    "#Add data from text files to csv\n",
    "trial_df = pd.DataFrame()\n",
    "count = 0 \n",
    "path1 = r\"C:\\Users\\MoRevolution\\Desktop\\College\\Classes\\2022-2023\\J-term\\CSC-380\\Tap Strap Functionality\\Data\\Circle_CCW\"\n",
    "listing = glob.glob(path1 + '\\\\*.txt')\n",
    "for file in listing:\n",
    "    x_array = np.array([])\n",
    "    y_array = np.array([])\n",
    "    # con = input(\"Press Y\")\n",
    "    with open(file, 'r') as my_file: \n",
    "        for line in my_file:\n",
    "            line = line.split(\" \")\n",
    "            x_array = np.append((x_array), [int(line[0])])\n",
    "            y_array = np.append((y_array), [int(line[1])])\n",
    "    trial_column = pd.DataFrame()\n",
    "    trial_column[f\"x_{count}\"] = x_array.tolist()\n",
    "    trial_column[f\"y_{count}\"] = y_array.tolist()\n",
    "    trial_df= pd.concat([trial_df, trial_column],axis=1)\n",
    "    count += 1 \n",
    "print(\"Finished all!!\")\n",
    "trial_df.to_csv(input(\"Type file name\"), index=False)"
   ]
  },
  {
   "cell_type": "code",
   "execution_count": null,
   "metadata": {},
   "outputs": [],
   "source": [
    "import glob\n",
    "path = r\"C:\\Users\\MoRevolution\\Desktop\\College\\Classes\\2022-2023\\J-term\\CSC-380\\Tap Strap Functionality\\test\"\n",
    "gl = glob.glob(path + '\\\\*.txt') \n",
    "x_array = np.array([])\n",
    "y_array = np.array([])\n",
    "with open(gl[1], 'r') as fl: \n",
    "    for line in fl: \n",
    "        line = line.split(\" \")\n",
    "        x_array = np.append((x_array), [int(line[0])])\n",
    "        y_array = np.append((y_array), [int(line[1])])\n",
    "trial_column = pd.DataFrame()\n",
    "trial_column[f\"x_{0}\"] = x_array.tolist()\n",
    "trial_column[f\"y_{0}\"] = y_array.tolist()\n",
    "trial_column.to_csv(input(\"Type file name\"), index=False)\n"
   ]
  },
  {
   "cell_type": "code",
   "execution_count": null,
   "metadata": {},
   "outputs": [],
   "source": [
    "import glob\n",
    "path = r\"C:\\Users\\MoRevolution\\Desktop\\College\\Classes\\2022-2023\\J-term\\CSC-380\\Tap Strap Functionality\\test\"\n",
    "gl = glob.glob(path + '\\\\*.txt') \n",
    "gl[1]"
   ]
  },
  {
   "cell_type": "markdown",
   "metadata": {},
   "source": [
    "#### Experimental Automated Collection"
   ]
  },
  {
   "cell_type": "code",
   "execution_count": null,
   "metadata": {},
   "outputs": [],
   "source": [
    "def main(): \n",
    "    trial_df = pd.DataFrame()\n",
    "    count = 0\n",
    "    start = input(f\"Type 'St' to start running\")\n",
    "\n",
    "    while start == \"St\":\n",
    "        trial = input(f\"Type 'ST' to start running this trial\")\n",
    "        x_array = np.array([])\n",
    "        y_array = np.array([])\n",
    "        while trial == \"ST\":\n",
    "            print(\"We are on trial\" + str(count))\n",
    "\n",
    "            # instantiate a Tap object and start registering events\n",
    "            global tap_instance\n",
    "            tap_instance = TapSDK()\n",
    "            fun = Functionality()\n",
    "            tap_instance.run()\n",
    "            tap_instance.register_mouse_events(fun.on_mouse_event)\n",
    "\n",
    "            #use 1 or 3 for controller or raw data mode respectively in list modes\n",
    "            tap_instance.set_input_mode(TapInputMode(modes[1]))   \n",
    "\n",
    "            # Command to end the recording of one trail within a case\n",
    "            if(keyboard.is_pressed(\"q\")):\n",
    "                trail = \"END\"\n",
    "                print(\"You have chosen to end this trial.\")\n",
    "            else:          \n",
    "                #append each position change value to the array \n",
    "                x_array = np.append(x_array,[fun.current_x])\n",
    "                y_array = np.append(x_array,[fun.current_y])   \n",
    "                print(str(fun.current_x), str(fun.current_y)) \n",
    "                pass\n",
    "\n",
    "            # Command to end the recording of trials within this database\n",
    "        if (keyboard.is_pressed('p')): \n",
    "            start = \"End\"\n",
    "            print(\"You have chosen to end this iteration of trials. Saving data...\")\n",
    "        else:  \n",
    "            #Add this trial to the trial_df dataframe\n",
    "            trial_column = pd.DataFrame([[x_array, y_array]], columns=['x_'+ str(count), 'y_'+ str(count)])\n",
    "            # trial_column = add_top_column(trial_column, \"Trial_\" + str(count))\n",
    "            trial_df= pd.concat([trial_df, trial_column])\n",
    "\n",
    "            print(f\"Trial {count} just ended, starting next trial. \")\n",
    "            count += count\n",
    "            print(f\"Trial {count} is next\")\n",
    "            pass\n",
    "\n",
    "    trial_df.to_csv(input(\"Type in the name for this csv file\"), index=False)\n",
    "\n",
    "if __name__ == \"__main__\":\n",
    "    main()"
   ]
  },
  {
   "cell_type": "code",
   "execution_count": null,
   "metadata": {},
   "outputs": [],
   "source": [
    "def main():\n",
    "    trial_df = pd.DataFrame()\n",
    "    count = 0\n",
    "    start = input(f\"Type 'St' to start running\")\n",
    "\n",
    "    while start == \"St\":\n",
    "        trial = input(f\"Type 'ST' to start running this trial\")\n",
    "        x_array = np.array([])\n",
    "        y_array = np.array([])\n",
    "        while trial == \"ST\":\n",
    "            print(\"We are on trial\" + str(count))\n",
    "\n",
    "            # instantiate a Tap object and start registering events\n",
    "            global tap_instance\n",
    "            tap_instance = TapSDK()\n",
    "            tap_instance.run()\n",
    "            tap_instance.register_connection_events(on_connect)\n",
    "            tap_instance.register_disconnection_events(on_disconnect)\n",
    "            tap_instance.register_mouse_events(on_mouse_event)\n",
    "            \n",
    "            #append each position change value to the array \n",
    "            x_array = np.append(x_array,[dx])\n",
    "            y_array = np.append(x_array,[dy])   \n",
    "            print(str(dx), str(dy)) \n",
    "\n",
    "            #use 1 or 3 for controller or raw data mode respectively in list modes\n",
    "            tap_instance.set_input_mode(TapInputMode(modes[1])) \n",
    "\n",
    "            # Command to end the recording of one trail within a case\n",
    "            if(keyboard.is_pressed(\"q\")):\n",
    "                trail = \"END\"\n",
    "                print(\"You have chosen to end this trial.\")\n",
    "            else: \n",
    "                pass\n",
    "        # Command to end the recording of trials within this database\n",
    "        if (keyboard.is_pressed('p')): \n",
    "            start = \"End\"\n",
    "            print(\"You have chosen to end this iteration of trials. Saving data...\")\n",
    "        else:  \n",
    "            #Add this trial to the trial_df dataframe\n",
    "            trial_column = pd.DataFrame([[x_array, y_array]], columns=['x_'+ str(count), 'y_'+ str(count)])\n",
    "            # trial_column = add_top_column(trial_column, \"Trial_\" + str(count))\n",
    "            trial_df= pd.concat([trial_df, trial_column])\n",
    "\n",
    "            print(f\"Trial {count} just ended, starting next trial. \")\n",
    "            count += count\n",
    "            print(f\"Trial {count} is next\")\n",
    "            pass\n",
    "\n",
    "    trial_df.to_csv(input(\"Type in the name for this csv file\"), index=False)\n",
    "\n",
    "if __name__ == \"__main__\":\n",
    "    main()"
   ]
  },
  {
   "cell_type": "markdown",
   "metadata": {},
   "source": []
  },
  {
   "cell_type": "markdown",
   "metadata": {},
   "source": [
    "# Model Training"
   ]
  },
  {
   "cell_type": "markdown",
   "metadata": {},
   "source": [
    "###Data Normalization"
   ]
  },
  {
   "cell_type": "code",
   "execution_count": null,
   "metadata": {},
   "outputs": [],
   "source": [
    "import pandas as pd\n",
    "data = pd.read_csv(\"Circle_CW Data.csv\")\n",
    "data = data[['x_0', 'y_0']]\n",
    "data = data.dropna(how='any',axis=0) \n",
    "data = data.drop_duplicates(keep='first')\n"
   ]
  },
  {
   "cell_type": "code",
   "execution_count": null,
   "metadata": {},
   "outputs": [],
   "source": [
    "origin_x = 0 \n",
    "origin_y = 0 \n",
    "\n",
    "new_x_array = np.array([])\n",
    "new_y_array = np.array([])\n",
    "# for f, b in zip(foo, bar):\n",
    "#     print(f, b)\n",
    "\n",
    "for x,y in zip(data['x_0'].tolist(), data['y_0'].tolist()): \n",
    "    origin_x += x \n",
    "    origin_y += y \n",
    "    new_x_array = np.append(new_x_array, [origin_x])\n",
    "    new_y_array = np.append(new_y_array, [origin_y])\n",
    "\n",
    "new_df = pd.DataFrame()\n",
    "new_df[f\"x_0\"] = new_x_array.tolist()\n",
    "new_df[f\"y_0\"] = new_y_array.tolist()\n",
    "new_df"
   ]
  },
  {
   "cell_type": "code",
   "execution_count": null,
   "metadata": {},
   "outputs": [],
   "source": [
    "import matplotlib.pyplot as plt\n",
    "  \n",
    "# make data\n",
    "x = new_df['x_0'].to_numpy()\n",
    "y = new_df['y_0'].to_numpy()\n",
    "\n",
    "  \n",
    "# naming the x and y axis\n",
    "plt.xlabel('x - axis')\n",
    "plt.ylabel('y - axis')\n",
    "  \n",
    "  \n",
    "# plotting a line plot after changing it's width and height\n",
    "f = plt.figure()\n",
    "f.set_figwidth(20)\n",
    "f.set_figheight(20)\n",
    "  \n",
    "print(\"Plot\")\n",
    "plt.plot(x, y)\n",
    "plt.show()"
   ]
  },
  {
   "cell_type": "markdown",
   "metadata": {},
   "source": []
  },
  {
   "cell_type": "markdown",
   "metadata": {},
   "source": [
    "## Lazy Predict"
   ]
  },
  {
   "cell_type": "markdown",
   "metadata": {},
   "source": [
    "### Import Libraries"
   ]
  },
  {
   "cell_type": "code",
   "execution_count": null,
   "metadata": {},
   "outputs": [],
   "source": [
    "import lazypredict\n",
    "from lazypredict.Supervised import LazyClassifier"
   ]
  },
  {
   "cell_type": "code",
   "execution_count": null,
   "metadata": {},
   "outputs": [],
   "source": []
  },
  {
   "cell_type": "markdown",
   "metadata": {},
   "source": [
    "## SVM"
   ]
  },
  {
   "cell_type": "markdown",
   "metadata": {},
   "source": []
  }
 ],
 "metadata": {
  "kernelspec": {
   "display_name": "Python 3 (ipykernel)",
   "language": "python",
   "name": "python3"
  },
  "language_info": {
   "codemirror_mode": {
    "name": "ipython",
    "version": 3
   },
   "file_extension": ".py",
   "mimetype": "text/x-python",
   "name": "python",
   "nbconvert_exporter": "python",
   "pygments_lexer": "ipython3",
   "version": "3.10.5"
  },
  "vscode": {
   "interpreter": {
    "hash": "26de051ba29f2982a8de78e945f0abaf191376122a1563185a90213a26c5da77"
   }
  }
 },
 "nbformat": 4,
 "nbformat_minor": 2
}
