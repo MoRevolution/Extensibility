{
 "cells": [
  {
   "cell_type": "code",
   "execution_count": 1,
   "metadata": {},
   "outputs": [],
   "source": [
    "from tapsdk import TapSDK, TapInputMode\n",
    "from tapsdk.models import AirGestures\n",
    "import pandas as pd\n",
    "import numpy as np\n",
    "import keyboard\n",
    "\n",
    "tap_instance = []\n",
    "tap_identifiers = []\n",
    "\n",
    "modes = [\"text\", \"controller\", \"controller_text\", \"raw\"]"
   ]
  },
  {
   "cell_type": "code",
   "execution_count": 2,
   "metadata": {},
   "outputs": [],
   "source": [
    "#For connection notification\n",
    "def on_connect(identifier, name, fw):\n",
    "    print(\"Tap has connected\")\n",
    "    print(identifier + \" Tap: \" + str(name), \" FW Version: \", fw)\n",
    "    if identifier not in tap_identifiers:\n",
    "        tap_identifiers.append(identifier)\n",
    "    print(\"Connected taps:\")\n",
    "    for identifier in tap_identifiers:\n",
    "        print(identifier)\n",
    "\n",
    "#For disconnection notification\n",
    "def on_disconnect(identifier):\n",
    "    print(\"Tap has disconnected\")\n",
    "    if identifier in tap_identifiers:\n",
    "        tap_identifiers.remove(identifier)\n",
    "    for identifier in tap_identifiers:\n",
    "        print(identifier)\n",
    "\n",
    "# #For IMU and accelerometer data\n",
    "# def on_raw_sensor_data(identifier, raw_sensor_data):\n",
    "#     print(raw_sensor_data)\n",
    "#     if raw_sensor_data.GetPoint(1).z > 2000 and raw_sensor_data.GetPoint(2).z > 2000 and raw_sensor_data.GetPoint(3).z > 2000 and raw_sensor_data.GetPoint(4).z > 2000:\n",
    "#         tap_instance.set_input_mode(TapInputMode(\"controller\"), identifier)\n"
   ]
  },
  {
   "cell_type": "code",
   "execution_count": 3,
   "metadata": {},
   "outputs": [],
   "source": [
    "#For mouse data\n",
    "def on_mouse_event(identifier, dx, dy, isMouse):\n",
    "    if isMouse:\n",
    "        # return (dx, dy)\n",
    "        print(str(dx), str(dy)) \n",
    "    else:\n",
    "        pass\n",
    "        # print(\"Air: \", str(dx), str(dy))\n",
    "\n",
    "\n",
    "def add_top_column(df, top_col, inplace=False):\n",
    "    if not inplace:\n",
    "        df = df.copy()\n",
    "    \n",
    "    df.columns = pd.MultiIndex.from_product([[top_col], df.columns])\n",
    "    return df"
   ]
  },
  {
   "cell_type": "code",
   "execution_count": 4,
   "metadata": {},
   "outputs": [
    {
     "ename": "",
     "evalue": "",
     "output_type": "error",
     "traceback": [
      "\u001b[1;31mCanceled future for execute_request message before replies were done"
     ]
    },
    {
     "ename": "",
     "evalue": "",
     "output_type": "error",
     "traceback": [
      "\u001b[1;31mThe Kernel crashed while executing code in the the current cell or a previous cell. Please review the code in the cell(s) to identify a possible cause of the failure. Click <a href='https://aka.ms/vscodeJupyterKernelCrash'>here</a> for more info. View Jupyter <a href='command:jupyter.viewOutput'>log</a> for further details."
     ]
    }
   ],
   "source": [
    "def main():\n",
    "    global tap_instance\n",
    "    tap_instance = TapSDK()\n",
    "    tap_instance.run()\n",
    "    tap_instance.register_connection_events(on_connect)\n",
    "    tap_instance.register_disconnection_events(on_disconnect)\n",
    "    \n",
    "    # count = 0\n",
    "    # runCommand = keyboard.is_pressed(\"s\")   \n",
    "    \n",
    "    tap_instance.set_input_mode(TapInputMode(modes[1])) \n",
    "    tap_instance.register_mouse_events(on_mouse_event)\n",
    "    truthValue = True\n",
    "    while truthValue:\n",
    "        if(keyboard.is_pressed(\"q\")):\n",
    "            truthValue = False\n",
    "        else: \n",
    "            pass\n",
    "\n",
    "if __name__ == \"__main__\":\n",
    "    main()"
   ]
  },
  {
   "cell_type": "code",
   "execution_count": null,
   "metadata": {},
   "outputs": [],
   "source": [
    "def trials(instance: TapSDK, ): \n",
    "    mouse_data = instance.register_mouse_events(on_mouse_event)\n",
    "    tap_instance.set_input_mode(TapInputMode(modes[1])) \n",
    "\n",
    "    if(trial_df.columns.size == 0)"
   ]
  },
  {
   "cell_type": "code",
   "execution_count": null,
   "metadata": {},
   "outputs": [],
   "source": [
    "def main():\n",
    "    trial_df = pd.DataFrame()\n",
    "    count = 0\n",
    "    start = input(f\"Type 'St' to start running\")\n",
    "\n",
    "    while start == \"St\":\n",
    "        trial = input(f\"Type 'ST' to start running this trial\")\n",
    "        x_array = np.array([])\n",
    "        y_array = np.array([])\n",
    "        while trial == \"ST\":\n",
    "            print(\"We are on trial\" + str(count))\n",
    "\n",
    "            global tap_instance\n",
    "            tap_instance = TapSDK()\n",
    "            tap_instance.run()\n",
    "            tap_instance.register_connection_events(on_connect)\n",
    "            tap_instance.register_disconnection_events(on_disconnect)\n",
    "            dx,dy = tap_instance.register_mouse_events(on_mouse_event)\n",
    "            \n",
    "            #append each position change value to the array \n",
    "            x_array = np.append(x_array,[dx])\n",
    "            y_array = np.append(x_array,[dy])   \n",
    "            print(str(dx), str(dy)) \n",
    "\n",
    "            #use 1 or 3 for controller or raw data mode respectively in list modes\n",
    "            tap_instance.set_input_mode(TapInputMode(modes[1])) \n",
    "\n",
    "            # Command to end the recording of one trail within a case\n",
    "            if(keyboard.is_pressed(\"q\")):\n",
    "                trail = \"END\"\n",
    "                print(\"You have chosen to end this trial.\")\n",
    "            else: \n",
    "                pass\n",
    "\n",
    "        #Add this trial to the trial_df dataframe\n",
    "        trial_column = pd.DataFrame([[x_array, y_array]], columns=['x', 'y'])\n",
    "        trial_column = add_top_column(trial_column, \"Trial_\" + str(count))\n",
    "        trial_df= pd.concat([trial_df, trial_column])\n",
    "\n",
    "        print(f\"Trial {count} just ended, starting next trial. \")\n",
    "        count += count\n",
    "        print(f\"Trial {count} is next\")\n",
    "\n",
    "        # Command to end the recording of trials within this database\n",
    "        if (keyboard.is_pressed('p')): \n",
    "            start = \"End\"\n",
    "            print(\"You have chosen to end this iteration of trials. Saving data...\")\n",
    "        else: \n",
    "            pass\n",
    "\n",
    "    trial_df.to_csv(input(\"Type in the name for this csv file\"), index=False)\n",
    "\n",
    "if __name__ == \"__main__\":\n",
    "    main()"
   ]
  },
  {
   "cell_type": "code",
   "execution_count": null,
   "metadata": {},
   "outputs": [],
   "source": [
    "if(trial_df.columns.size == 0):     \n",
    "                x_array = np.array([mouse_data[0]])\n",
    "                y_array = np.arange([mouse_data[1]])\n",
    "                first_row = pd.DataFrame([[mouse_data[0], mouse_data[1]]], columns=['x', 'y'])\n",
    "                trial_df= pd.concat([trial_df, first_row])\n",
    "                trial_df = add_top_column(trial_df, 'Trial_' + str(count))\n",
    "            else: \n",
    "                new_row = \n",
    "                pd.concat([trial_df, new_row.to_frame().T], ignore_index=True)\n"
   ]
  }
 ],
 "metadata": {
  "kernelspec": {
   "display_name": "Python 3.10.5 64-bit",
   "language": "python",
   "name": "python3"
  },
  "language_info": {
   "codemirror_mode": {
    "name": "ipython",
    "version": 3
   },
   "file_extension": ".py",
   "mimetype": "text/x-python",
   "name": "python",
   "nbconvert_exporter": "python",
   "pygments_lexer": "ipython3",
   "version": "3.10.5"
  },
  "orig_nbformat": 4,
  "vscode": {
   "interpreter": {
    "hash": "26de051ba29f2982a8de78e945f0abaf191376122a1563185a90213a26c5da77"
   }
  }
 },
 "nbformat": 4,
 "nbformat_minor": 2
}
