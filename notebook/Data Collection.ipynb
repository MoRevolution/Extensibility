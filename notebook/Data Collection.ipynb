{
 "cells": [
  {
   "cell_type": "markdown",
   "metadata": {},
   "source": [
    "# Data Collection"
   ]
  },
  {
   "cell_type": "markdown",
   "metadata": {},
   "source": [
    "### Import Libraries For Data Collection"
   ]
  },
  {
   "cell_type": "code",
   "execution_count": null,
   "metadata": {},
   "outputs": [],
   "source": [
    "from tapsdk import TapSDK, TapInputMode\n",
    "from tapsdk.models import AirGestures\n",
    "import pandas as pd\n",
    "import numpy as np\n",
    "import keyboard\n",
    "import time\n",
    "import os \n",
    "import glob\n",
    "\n",
    "tap_instance = []\n",
    "tap_identifiers = []\n",
    "global x_array \n",
    "global y_array \n",
    "\n",
    "modes = [\"text\", \"controller\", \"controller_text\", \"raw\"]"
   ]
  },
  {
   "cell_type": "markdown",
   "metadata": {},
   "source": [
    "### Functions"
   ]
  },
  {
   "cell_type": "code",
   "execution_count": null,
   "metadata": {},
   "outputs": [],
   "source": [
    "class Functionality:\n",
    "    current_x = None\n",
    "    current_y = None\n",
    "    \n",
    "    # For connection notification\n",
    "    def on_connect(self, identifier, name, fw):\n",
    "        print(\"Tap has connected\")\n",
    "        print(identifier + \" Tap: \" + str(name), \" FW Version: \", fw)\n",
    "        if identifier not in tap_identifiers:\n",
    "            tap_identifiers.append(identifier)\n",
    "        print(\"Connected taps:\")\n",
    "        for identifier in tap_identifiers:\n",
    "            print(identifier)\n",
    "\n",
    "    # For disconnection notification\n",
    "    def on_disconnect(self, identifier):\n",
    "        print(\"Tap has disconnected\")\n",
    "        if identifier in tap_identifiers:\n",
    "            tap_identifiers.remove(identifier)\n",
    "        for identifier in tap_identifiers:\n",
    "            print(identifier)\n",
    "\n",
    "    # For mouse data\n",
    "    def on_mouse_event(self, identifier, dx: int, dy: int, isMouse):\n",
    "        if isMouse:\n",
    "            self.current_x = dx \n",
    "            self.current_y = dy\n",
    "            # print(str(dx), str(dy))\n",
    "        else:\n",
    "            pass\n",
    "            # print(\"Air: \", str(dx), str(dy))\n",
    "\n",
    "    #For adding columns on top \n",
    "    def add_top_column(self, df: pd.DataFrame, top_col: str, inplace=False):\n",
    "        if not inplace:\n",
    "            df = df.copy()\n",
    "        \n",
    "        df.columns = pd.MultiIndex.from_product([[top_col], df.columns])\n",
    "        return df"
   ]
  },
  {
   "cell_type": "markdown",
   "metadata": {},
   "source": [
    "### Data Collection"
   ]
  },
  {
   "cell_type": "markdown",
   "metadata": {},
   "source": [
    "#### Non-Automated Collection"
   ]
  },
  {
   "cell_type": "code",
   "execution_count": null,
   "metadata": {},
   "outputs": [],
   "source": [
    "def main(): \n",
    "    count = 0 \n",
    "    start = input(f\"Type 'ST' to start running\")\n",
    "    \n",
    "    while start == \"ST\":\n",
    "        global tap_instance\n",
    "        tap_instance = TapSDK()\n",
    "        fun = Functionality()\n",
    "        tap_instance.run()\n",
    "\n",
    "        # tap_instance.register_connection_events(on_connect)\n",
    "        # tap_instance.register_disconnection_events(on_disconnect)\n",
    "        tap_instance.register_mouse_events(fun.on_mouse_event)\n",
    "        tap_instance.set_input_mode(TapInputMode(modes[2]))   \n",
    "\n",
    "        trial = True \n",
    "        while trial:\n",
    "            if(keyboard.is_pressed(\"q\")):\n",
    "                trial = False\n",
    "                print(\"You have chosen to end this trial.\")\n",
    "            else: \n",
    "                if str(fun.current_x) != \"None\":\n",
    "                    # print(str(fun.current_x) + \" \"+ str(fun.current_y) + \" \" + \"got it\")\n",
    "                    with open(f\"Data\\\\Random_+1\\\\random_{count}.txt\", \"a\") as my_file:\n",
    "                        my_file.write(str(fun.current_x) + \" \" + str(fun.current_y) +\"\\n\")\n",
    "                pass\n",
    "\n",
    "        count += 1\n",
    "        if  count <= 100:  \n",
    "            start = input(\"Type 'ST' to keep running\")\n",
    "        else: \n",
    "            start = \"Finish\"\n",
    "            print(start)\n",
    "\n",
    "if __name__ == \"__main__\":\n",
    "    main() "
   ]
  },
  {
   "cell_type": "markdown",
   "metadata": {},
   "source": [
    "#### Data Cleaning and Dumping"
   ]
  },
  {
   "cell_type": "code",
   "execution_count": null,
   "metadata": {},
   "outputs": [],
   "source": [
    "# Remove repetitive lines from both CW and CCW text files \n",
    "path1 = r\"C:\\Users\\MoRevolution\\Desktop\\College\\Classes\\2022-2023\\J-term\\CSC-380\\Tap Strap Functionality\\Data\\Random\"\n",
    "listing = glob.glob(path1 + '\\\\*.txt')\n",
    "count = 0 \n",
    "for file in listing:\n",
    "    lines_seen = set() # holds lines already seen\n",
    "    outfile = open(f\"Data\\\\Cleaned_Random\\\\random_{count}.txt\", \"a\")\n",
    "    for line in open(file, \"r\"):\n",
    "        if line not in lines_seen: # not a duplicate\n",
    "            outfile.write(line)\n",
    "            lines_seen.add(line)\n",
    "    outfile.close()\n",
    "    count += 1 "
   ]
  },
  {
   "cell_type": "code",
   "execution_count": null,
   "metadata": {},
   "outputs": [],
   "source": [
    "#Add data from text files to csv\n",
    "trial_df = pd.DataFrame()\n",
    "count = 0 \n",
    "path1 = r\"C:\\Users\\MoRevolution\\Desktop\\College\\Classes\\2022-2023\\J-term\\CSC-380\\Tap Strap Functionality\\Data\\Cleaned_Random\"\n",
    "listing = glob.glob(path1 + '\\\\*.txt')\n",
    "for file in listing:\n",
    "    x_array = np.array([])\n",
    "    y_array = np.array([])\n",
    "    # con = input(\"Press Y\")\n",
    "    with open(file, 'r') as my_file: \n",
    "        for line in my_file:\n",
    "            line = line.split(\" \")\n",
    "            x_array = np.append((x_array), [int(line[0])])\n",
    "            y_array = np.append((y_array), [int(line[1])])\n",
    "    trial_column = pd.DataFrame()\n",
    "    trial_column[f\"x_{count}\"] = x_array.tolist()\n",
    "    trial_column[f\"y_{count}\"] = y_array.tolist()\n",
    "    trial_df= pd.concat([trial_df, trial_column],axis=1)\n",
    "    count += 1 \n",
    "print(\"Finished all!!\")\n",
    "trial_df.to_csv(input(\"Type file name\"), index=False)"
   ]
  },
  {
   "cell_type": "markdown",
   "metadata": {},
   "source": [
    "#### Experimental Automated Collection"
   ]
  },
  {
   "cell_type": "code",
   "execution_count": null,
   "metadata": {},
   "outputs": [],
   "source": [
    "def main(): \n",
    "    trial_df = pd.DataFrame()\n",
    "    count = 0\n",
    "    start = input(f\"Type 'St' to start running\")\n",
    "\n",
    "    while start == \"St\":\n",
    "        trial = input(f\"Type 'ST' to start running this trial\")\n",
    "        x_array = np.array([])\n",
    "        y_array = np.array([])\n",
    "        while trial == \"ST\":\n",
    "            print(\"We are on trial\" + str(count))\n",
    "\n",
    "            # instantiate a Tap object and start registering events\n",
    "            global tap_instance\n",
    "            tap_instance = TapSDK()\n",
    "            fun = Functionality()\n",
    "            tap_instance.run()\n",
    "            tap_instance.register_mouse_events(fun.on_mouse_event)\n",
    "\n",
    "            #use 1 or 3 for controller or raw data mode respectively in list modes\n",
    "            tap_instance.set_input_mode(TapInputMode(modes[1]))   \n",
    "\n",
    "            # Command to end the recording of one trail within a case\n",
    "            if(keyboard.is_pressed(\"q\")):\n",
    "                trail = \"END\"\n",
    "                print(\"You have chosen to end this trial.\")\n",
    "            else:          \n",
    "                #append each position change value to the array \n",
    "                x_array = np.append(x_array,[fun.current_x])\n",
    "                y_array = np.append(x_array,[fun.current_y])   \n",
    "                print(str(fun.current_x), str(fun.current_y)) \n",
    "                pass\n",
    "\n",
    "            # Command to end the recording of trials within this database\n",
    "        if (keyboard.is_pressed('p')): \n",
    "            start = \"End\"\n",
    "            print(\"You have chosen to end this iteration of trials. Saving data...\")\n",
    "        else:  \n",
    "            #Add this trial to the trial_df dataframe\n",
    "            trial_column = pd.DataFrame([[x_array, y_array]], columns=['x_'+ str(count), 'y_'+ str(count)])\n",
    "            # trial_column = add_top_column(trial_column, \"Trial_\" + str(count))\n",
    "            trial_df= pd.concat([trial_df, trial_column])\n",
    "\n",
    "            print(f\"Trial {count} just ended, starting next trial. \")\n",
    "            count += count\n",
    "            print(f\"Trial {count} is next\")\n",
    "            pass\n",
    "\n",
    "    trial_df.to_csv(input(\"Type in the name for this csv file\"), index=False)\n",
    "\n",
    "if __name__ == \"__main__\":\n",
    "    main()"
   ]
  },
  {
   "cell_type": "code",
   "execution_count": null,
   "metadata": {},
   "outputs": [],
   "source": [
    "def main():\n",
    "    trial_df = pd.DataFrame()\n",
    "    count = 0\n",
    "    start = input(f\"Type 'St' to start running\")\n",
    "\n",
    "    while start == \"St\":\n",
    "        trial = input(f\"Type 'ST' to start running this trial\")\n",
    "        x_array = np.array([])\n",
    "        y_array = np.array([])\n",
    "        while trial == \"ST\":\n",
    "            print(\"We are on trial\" + str(count))\n",
    "\n",
    "            # instantiate a Tap object and start registering events\n",
    "            global tap_instance\n",
    "            tap_instance = TapSDK()\n",
    "            tap_instance.run()\n",
    "            tap_instance.register_connection_events(on_connect)\n",
    "            tap_instance.register_disconnection_events(on_disconnect)\n",
    "            tap_instance.register_mouse_events(on_mouse_event)\n",
    "            \n",
    "            #append each position change value to the array \n",
    "            x_array = np.append(x_array,[dx])\n",
    "            y_array = np.append(x_array,[dy])   \n",
    "            print(str(dx), str(dy)) \n",
    "\n",
    "            #use 1 or 3 for controller or raw data mode respectively in list modes\n",
    "            tap_instance.set_input_mode(TapInputMode(modes[1])) \n",
    "\n",
    "            # Command to end the recording of one trail within a case\n",
    "            if(keyboard.is_pressed(\"q\")):\n",
    "                trail = \"END\"\n",
    "                print(\"You have chosen to end this trial.\")\n",
    "            else: \n",
    "                pass\n",
    "        # Command to end the recording of trials within this database\n",
    "        if (keyboard.is_pressed('p')): \n",
    "            start = \"End\"\n",
    "            print(\"You have chosen to end this iteration of trials. Saving data...\")\n",
    "        else:  \n",
    "            #Add this trial to the trial_df dataframe\n",
    "            trial_column = pd.DataFrame([[x_array, y_array]], columns=['x_'+ str(count), 'y_'+ str(count)])\n",
    "            # trial_column = add_top_column(trial_column, \"Trial_\" + str(count))\n",
    "            trial_df= pd.concat([trial_df, trial_column])\n",
    "\n",
    "            print(f\"Trial {count} just ended, starting next trial. \")\n",
    "            count += count\n",
    "            print(f\"Trial {count} is next\")\n",
    "            pass\n",
    "\n",
    "    trial_df.to_csv(input(\"Type in the name for this csv file\"), index=False)\n",
    "\n",
    "if __name__ == \"__main__\":\n",
    "    main()"
   ]
  }
 ],
 "metadata": {
  "kernelspec": {
   "display_name": "Python 3 (ipykernel)",
   "language": "python",
   "name": "python3"
  },
  "language_info": {
   "codemirror_mode": {
    "name": "ipython",
    "version": 3
   },
   "file_extension": ".py",
   "mimetype": "text/x-python",
   "name": "python",
   "nbconvert_exporter": "python",
   "pygments_lexer": "ipython3",
   "version": "3.9.0"
  },
  "vscode": {
   "interpreter": {
    "hash": "26de051ba29f2982a8de78e945f0abaf191376122a1563185a90213a26c5da77"
   }
  }
 },
 "nbformat": 4,
 "nbformat_minor": 2
}
